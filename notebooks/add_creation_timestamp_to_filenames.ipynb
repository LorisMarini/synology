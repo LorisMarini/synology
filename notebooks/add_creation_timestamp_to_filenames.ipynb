{
 "cells": [
  {
   "cell_type": "code",
   "execution_count": 1,
   "metadata": {},
   "outputs": [],
   "source": [
    "import glob\n",
    "import shutil\n",
    "from shutil import copyfile\n",
    "import os\n",
    "import pandas as pd"
   ]
  },
  {
   "cell_type": "code",
   "execution_count": 2,
   "metadata": {},
   "outputs": [
    {
     "data": {
      "text/plain": [
       "'/Users/lorismarini/Dropbox/data-projects/nas'"
      ]
     },
     "execution_count": 2,
     "metadata": {},
     "output_type": "execute_result"
    }
   ],
   "source": [
    "pwd"
   ]
  },
  {
   "cell_type": "code",
   "execution_count": 52,
   "metadata": {},
   "outputs": [],
   "source": [
    "# name of basedir \n",
    "dir_name = \"source_test\"\n",
    "base_path = f'/Users/lorismarini/Desktop/{dir_name}'"
   ]
  },
  {
   "cell_type": "code",
   "execution_count": 53,
   "metadata": {},
   "outputs": [
    {
     "name": "stdout",
     "output_type": "stream",
     "text": [
      "STEP-1: Searching files recusrively in /Users/lorismarini/Desktop/source_test...\n",
      "STEP-1: Found 47 files.\n"
     ]
    }
   ],
   "source": [
    "print(f\"STEP-1: Searching files recusrively in {base_path}...\")\n",
    "\n",
    "# Search for all files recursively\n",
    "file_names = [name for name in glob.glob(f\"{base_path}/**/*.*\", recursive=True)]\n",
    "\n",
    "# Count all files\n",
    "file_count = len(file_names)\n",
    "print(f\"STEP-1: Found {file_count} files.\")"
   ]
  },
  {
   "cell_type": "code",
   "execution_count": 54,
   "metadata": {},
   "outputs": [
    {
     "name": "stdout",
     "output_type": "stream",
     "text": [
      "STEP-2: Building a new naming map...\n",
      "Birthtime missing from filename, adding one\n",
      "Birthtime missing from filename, adding one\n",
      "Birthtime missing from filename, adding one\n",
      "Birthtime missing from filename, adding one\n",
      "Birthtime missing from filename, adding one\n",
      "Birthtime missing from filename, adding one\n",
      "Birthtime missing from filename, adding one\n",
      "Birthtime missing from filename, adding one\n",
      "Birthtime missing from filename, adding one\n",
      "Birthtime missing from filename, adding one\n",
      "Birthtime missing from filename, adding one\n",
      "Birthtime missing from filename, adding one\n",
      "Birthtime missing from filename, adding one\n",
      "Birthtime missing from filename, adding one\n",
      "Birthtime missing from filename, adding one\n",
      "Birthtime missing from filename, adding one\n",
      "Birthtime missing from filename, adding one\n",
      "Birthtime missing from filename, adding one\n",
      "Birthtime missing from filename, adding one\n",
      "Birthtime missing from filename, adding one\n",
      "Birthtime missing from filename, adding one\n",
      "Birthtime missing from filename, adding one\n",
      "Birthtime missing from filename, adding one\n",
      "Birthtime missing from filename, adding one\n",
      "Birthtime missing from filename, adding one\n",
      "Birthtime missing from filename, adding one\n",
      "Birthtime missing from filename, adding one\n",
      "Birthtime missing from filename, adding one\n",
      "Birthtime missing from filename, adding one\n",
      "Birthtime missing from filename, adding one\n",
      "Birthtime missing from filename, adding one\n",
      "Birthtime missing from filename, adding one\n",
      "Birthtime missing from filename, adding one\n",
      "Birthtime missing from filename, adding one\n",
      "Birthtime missing from filename, adding one\n",
      "Birthtime missing from filename, adding one\n",
      "Birthtime missing from filename, adding one\n",
      "Birthtime missing from filename, adding one\n",
      "Birthtime missing from filename, adding one\n",
      "Birthtime missing from filename, adding one\n",
      "Birthtime already part of filename `2019-12-18-07-23-14_IMG_9518.JPG`. No timestamp will be added.\n",
      "Birthtime already part of filename `2019-12-18-07-09-48_IMG_9510.JPG`. No timestamp will be added.\n",
      "Birthtime already part of filename `2019-12-18-07-20-30_IMG_9513.JPG`. No timestamp will be added.\n",
      "Birthtime already part of filename `2019-12-18-07-20-24_IMG_9512.JPG`. No timestamp will be added.\n",
      "Birthtime already part of filename `2019-12-18-07-09-34_IMG_9509.JPG`. No timestamp will be added.\n",
      "Birthtime already part of filename `2019-12-18-07-21-02_IMG_9515.JPG`. No timestamp will be added.\n",
      "Birthtime already part of filename `2019-12-18-07-20-38_IMG_9514.JPG`. No timestamp will be added.\n",
      "STEP-2: New naming map built.\n"
     ]
    }
   ],
   "source": [
    "print(\"STEP-2: Building a new naming map...\")\n",
    "\n",
    "new_filenames = []\n",
    "for i in range(len(file_names)):\n",
    "    \n",
    "    # Full path of this file\n",
    "    abs_path = file_names[i]\n",
    "    \n",
    "    # File timestamp\n",
    "    timestamp = pd.Timestamp(os.stat(abs_path).st_birthtime, unit=\"s\")\n",
    "    timestamp_string = timestamp.strftime(\"%Y-%m-%d-%H-%M-%S\")\n",
    "    \n",
    "    # Basepath + Filename\n",
    "    base = os.path.split(abs_path)[0]\n",
    "    fn = os.path.split(abs_path)[1]\n",
    "    \n",
    "    # Determine if formatting is necessary\n",
    "    if timestamp_string in fn:\n",
    "        print(f\"Birthtime already part of filename `{fn}`. No timestamp will be added.\")\n",
    "        new_filenames.append(abs_path)\n",
    "    else:\n",
    "        print(f\"Birthtime missing from filename, adding one\")\n",
    "        fn_new = timestamp_string + \"_\" + fn\n",
    "        abs_path_new = os.path.join(base,fn_new)\n",
    "        # Append new name\n",
    "        new_filenames.append(abs_path_new)\n",
    "\n",
    "print(\"STEP-2: New naming map built.\")"
   ]
  },
  {
   "cell_type": "code",
   "execution_count": 55,
   "metadata": {},
   "outputs": [
    {
     "name": "stdout",
     "output_type": "stream",
     "text": [
      "STEP-3: Renaming files...\n",
      "Source and destinations are the same. Renaming skipped.\n",
      "Source and destinations are the same. Renaming skipped.\n",
      "Source and destinations are the same. Renaming skipped.\n",
      "Source and destinations are the same. Renaming skipped.\n",
      "Source and destinations are the same. Renaming skipped.\n",
      "Source and destinations are the same. Renaming skipped.\n",
      "Source and destinations are the same. Renaming skipped.\n",
      "STEP-3: Renaming done. 7 skipped, 40 renamed, 0 lost\n"
     ]
    }
   ],
   "source": [
    "print(\"STEP-3: Renaming files...\")\n",
    "\n",
    "skipped = 0\n",
    "renamed = 0\n",
    "lost = 0 \n",
    "\n",
    "for path_old, path_new in zip(file_names, new_filenames):\n",
    "    \n",
    "    fn_old = os.path.split(path_old)[1]\n",
    "    fn_new = os.path.split(path_new)[1]\n",
    "    \n",
    "    if path_old == path_new:\n",
    "        # No operation needed. Skip\n",
    "        skipped += 1\n",
    "        print(\"Source and destinations are the same. Renaming skipped.\")\n",
    "    else:\n",
    "        try:\n",
    "            # Rename file\n",
    "            os.rename(path_old, path_new)\n",
    "            renamed +=1 \n",
    "        except FileNotFoundError as ex:\n",
    "            # Source file not found\n",
    "            if os.path.exists(path_new):\n",
    "                print(f\"{fn_old} already renamed to {fn_new}\")\n",
    "            else:\n",
    "                lost += 1\n",
    "                print(f\"File {fn_old} not found. It was supposed to be renamed as {fn_new}. File lost.\")\n",
    "                \n",
    "print(f\"STEP-3: Renaming done. {skipped} skipped, {renamed} renamed, {lost} lost\")"
   ]
  },
  {
   "cell_type": "code",
   "execution_count": 65,
   "metadata": {},
   "outputs": [
    {
     "data": {
      "text/plain": [
       "51"
      ]
     },
     "execution_count": 65,
     "metadata": {},
     "output_type": "execute_result"
    }
   ],
   "source": [
    "timestring = \"2019-12-18-07-09-34\"\n",
    "parts = timestring.split(\"-\")\n",
    "\n",
    "timestamp = pd.Timestamp(\n",
    "    year=int(parts[0]),\n",
    "    month=int(parts[1]),\n",
    "    day=int(parts[2]),\n",
    "    hour=int(parts[3]),\n",
    "    minute=int(parts[4]),\n",
    "    second=int(parts[5]))\n",
    "\n"
   ]
  },
  {
   "cell_type": "code",
   "execution_count": 61,
   "metadata": {},
   "outputs": [
    {
     "data": {
      "text/plain": [
       "'09'"
      ]
     },
     "execution_count": 61,
     "metadata": {},
     "output_type": "execute_result"
    }
   ],
   "source": [
    "parts[4]"
   ]
  },
  {
   "cell_type": "code",
   "execution_count": 56,
   "metadata": {},
   "outputs": [
    {
     "ename": "ValueError",
     "evalue": "offset must be a timedelta strictly between -timedelta(hours=24) and timedelta(hours=24).",
     "output_type": "error",
     "traceback": [
      "\u001b[0;31m---------------------------------------------------------------------------\u001b[0m",
      "\u001b[0;31mValueError\u001b[0m                                Traceback (most recent call last)",
      "\u001b[0;32mpandas/_libs/tslibs/c_timestamp.pyx\u001b[0m in \u001b[0;36mpandas._libs.tslibs.c_timestamp._Timestamp.__repr__\u001b[0;34m()\u001b[0m\n",
      "\u001b[0;31mValueError\u001b[0m: offset must be a timedelta strictly between -timedelta(hours=24) and timedelta(hours=24).",
      "\nDuring handling of the above exception, another exception occurred:\n",
      "\u001b[0;31mValueError\u001b[0m                                Traceback (most recent call last)",
      "\u001b[0;32m~/anaconda3/lib/python3.7/site-packages/IPython/core/formatters.py\u001b[0m in \u001b[0;36m__call__\u001b[0;34m(self, obj)\u001b[0m\n\u001b[1;32m    700\u001b[0m                 \u001b[0mtype_pprinters\u001b[0m\u001b[0;34m=\u001b[0m\u001b[0mself\u001b[0m\u001b[0;34m.\u001b[0m\u001b[0mtype_printers\u001b[0m\u001b[0;34m,\u001b[0m\u001b[0;34m\u001b[0m\u001b[0;34m\u001b[0m\u001b[0m\n\u001b[1;32m    701\u001b[0m                 deferred_pprinters=self.deferred_printers)\n\u001b[0;32m--> 702\u001b[0;31m             \u001b[0mprinter\u001b[0m\u001b[0;34m.\u001b[0m\u001b[0mpretty\u001b[0m\u001b[0;34m(\u001b[0m\u001b[0mobj\u001b[0m\u001b[0;34m)\u001b[0m\u001b[0;34m\u001b[0m\u001b[0;34m\u001b[0m\u001b[0m\n\u001b[0m\u001b[1;32m    703\u001b[0m             \u001b[0mprinter\u001b[0m\u001b[0;34m.\u001b[0m\u001b[0mflush\u001b[0m\u001b[0;34m(\u001b[0m\u001b[0;34m)\u001b[0m\u001b[0;34m\u001b[0m\u001b[0;34m\u001b[0m\u001b[0m\n\u001b[1;32m    704\u001b[0m             \u001b[0;32mreturn\u001b[0m \u001b[0mstream\u001b[0m\u001b[0;34m.\u001b[0m\u001b[0mgetvalue\u001b[0m\u001b[0;34m(\u001b[0m\u001b[0;34m)\u001b[0m\u001b[0;34m\u001b[0m\u001b[0;34m\u001b[0m\u001b[0m\n",
      "\u001b[0;32m~/anaconda3/lib/python3.7/site-packages/IPython/lib/pretty.py\u001b[0m in \u001b[0;36mpretty\u001b[0;34m(self, obj)\u001b[0m\n\u001b[1;32m    400\u001b[0m                         \u001b[0;32mif\u001b[0m \u001b[0mcls\u001b[0m \u001b[0;32mis\u001b[0m \u001b[0;32mnot\u001b[0m \u001b[0mobject\u001b[0m\u001b[0;31m \u001b[0m\u001b[0;31m\\\u001b[0m\u001b[0;34m\u001b[0m\u001b[0;34m\u001b[0m\u001b[0m\n\u001b[1;32m    401\u001b[0m                                 \u001b[0;32mand\u001b[0m \u001b[0mcallable\u001b[0m\u001b[0;34m(\u001b[0m\u001b[0mcls\u001b[0m\u001b[0;34m.\u001b[0m\u001b[0m__dict__\u001b[0m\u001b[0;34m.\u001b[0m\u001b[0mget\u001b[0m\u001b[0;34m(\u001b[0m\u001b[0;34m'__repr__'\u001b[0m\u001b[0;34m)\u001b[0m\u001b[0;34m)\u001b[0m\u001b[0;34m:\u001b[0m\u001b[0;34m\u001b[0m\u001b[0;34m\u001b[0m\u001b[0m\n\u001b[0;32m--> 402\u001b[0;31m                             \u001b[0;32mreturn\u001b[0m \u001b[0m_repr_pprint\u001b[0m\u001b[0;34m(\u001b[0m\u001b[0mobj\u001b[0m\u001b[0;34m,\u001b[0m \u001b[0mself\u001b[0m\u001b[0;34m,\u001b[0m \u001b[0mcycle\u001b[0m\u001b[0;34m)\u001b[0m\u001b[0;34m\u001b[0m\u001b[0;34m\u001b[0m\u001b[0m\n\u001b[0m\u001b[1;32m    403\u001b[0m \u001b[0;34m\u001b[0m\u001b[0m\n\u001b[1;32m    404\u001b[0m             \u001b[0;32mreturn\u001b[0m \u001b[0m_default_pprint\u001b[0m\u001b[0;34m(\u001b[0m\u001b[0mobj\u001b[0m\u001b[0;34m,\u001b[0m \u001b[0mself\u001b[0m\u001b[0;34m,\u001b[0m \u001b[0mcycle\u001b[0m\u001b[0;34m)\u001b[0m\u001b[0;34m\u001b[0m\u001b[0;34m\u001b[0m\u001b[0m\n",
      "\u001b[0;32m~/anaconda3/lib/python3.7/site-packages/IPython/lib/pretty.py\u001b[0m in \u001b[0;36m_repr_pprint\u001b[0;34m(obj, p, cycle)\u001b[0m\n\u001b[1;32m    695\u001b[0m     \u001b[0;34m\"\"\"A pprint that just redirects to the normal repr function.\"\"\"\u001b[0m\u001b[0;34m\u001b[0m\u001b[0;34m\u001b[0m\u001b[0m\n\u001b[1;32m    696\u001b[0m     \u001b[0;31m# Find newlines and replace them with p.break_()\u001b[0m\u001b[0;34m\u001b[0m\u001b[0;34m\u001b[0m\u001b[0;34m\u001b[0m\u001b[0m\n\u001b[0;32m--> 697\u001b[0;31m     \u001b[0moutput\u001b[0m \u001b[0;34m=\u001b[0m \u001b[0mrepr\u001b[0m\u001b[0;34m(\u001b[0m\u001b[0mobj\u001b[0m\u001b[0;34m)\u001b[0m\u001b[0;34m\u001b[0m\u001b[0;34m\u001b[0m\u001b[0m\n\u001b[0m\u001b[1;32m    698\u001b[0m     \u001b[0;32mfor\u001b[0m \u001b[0midx\u001b[0m\u001b[0;34m,\u001b[0m\u001b[0moutput_line\u001b[0m \u001b[0;32min\u001b[0m \u001b[0menumerate\u001b[0m\u001b[0;34m(\u001b[0m\u001b[0moutput\u001b[0m\u001b[0;34m.\u001b[0m\u001b[0msplitlines\u001b[0m\u001b[0;34m(\u001b[0m\u001b[0;34m)\u001b[0m\u001b[0;34m)\u001b[0m\u001b[0;34m:\u001b[0m\u001b[0;34m\u001b[0m\u001b[0;34m\u001b[0m\u001b[0m\n\u001b[1;32m    699\u001b[0m         \u001b[0;32mif\u001b[0m \u001b[0midx\u001b[0m\u001b[0;34m:\u001b[0m\u001b[0;34m\u001b[0m\u001b[0;34m\u001b[0m\u001b[0m\n",
      "\u001b[0;32mpandas/_libs/tslibs/c_timestamp.pyx\u001b[0m in \u001b[0;36mpandas._libs.tslibs.c_timestamp._Timestamp.__repr__\u001b[0;34m()\u001b[0m\n",
      "\u001b[0;31mValueError\u001b[0m: offset must be a timedelta strictly between -timedelta(hours=24) and timedelta(hours=24)."
     ]
    }
   ],
   "source": [
    "pd.Timestamp(\"2019-12-18-07-09-34\")"
   ]
  },
  {
   "cell_type": "code",
   "execution_count": null,
   "metadata": {},
   "outputs": [],
   "source": []
  }
 ],
 "metadata": {
  "hide_input": false,
  "kernelspec": {
   "display_name": "Python 3",
   "language": "python",
   "name": "python3"
  },
  "language_info": {
   "codemirror_mode": {
    "name": "ipython",
    "version": 3
   },
   "file_extension": ".py",
   "mimetype": "text/x-python",
   "name": "python",
   "nbconvert_exporter": "python",
   "pygments_lexer": "ipython3",
   "version": "3.7.7"
  },
  "toc": {
   "base_numbering": 1,
   "nav_menu": {},
   "number_sections": true,
   "sideBar": true,
   "skip_h1_title": false,
   "title_cell": "Table of Contents",
   "title_sidebar": "Contents",
   "toc_cell": false,
   "toc_position": {},
   "toc_section_display": true,
   "toc_window_display": false
  }
 },
 "nbformat": 4,
 "nbformat_minor": 2
}
