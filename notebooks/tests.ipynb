{
 "cells": [
  {
   "cell_type": "code",
   "execution_count": 1,
   "metadata": {
    "ExecuteTime": {
     "end_time": "2020-05-29T02:56:13.774680Z",
     "start_time": "2020-05-29T02:56:12.314188Z"
    }
   },
   "outputs": [
    {
     "data": {
      "text/html": [
       "<style>.container { width:85% !important; }</style>"
      ],
      "text/plain": [
       "<IPython.core.display.HTML object>"
      ]
     },
     "metadata": {},
     "output_type": "display_data"
    }
   ],
   "source": [
    "import sys\n",
    "sys.path.append('../scripts')\n",
    "\n",
    "%run envconfig.py\n",
    "\n",
    "from imports import *\n",
    "from run import *"
   ]
  },
  {
   "cell_type": "code",
   "execution_count": 2,
   "metadata": {
    "ExecuteTime": {
     "end_time": "2020-05-29T02:56:14.395565Z",
     "start_time": "2020-05-29T02:56:14.306252Z"
    }
   },
   "outputs": [
    {
     "name": "stderr",
     "output_type": "stream",
     "text": [
      "6it [00:00, 2088.45it/s]"
     ]
    },
    {
     "name": "stdout",
     "output_type": "stream",
     "text": [
      "Listing all files recursively...\n",
      "0/6 files ignored because contain one or more of ['.jpg', '.jpeg', '.png']\n",
      "6 total files found in src_dir\n"
     ]
    },
    {
     "name": "stderr",
     "output_type": "stream",
     "text": [
      "\n"
     ]
    }
   ],
   "source": [
    "# dump\n",
    "dump = \"/Users/lorismarini/Downloads\"\n",
    "staging_home = \"\"\n",
    "server_home = \"/home/lorismarini/Downloads/server_test\"\n",
    "ignore = [\".jpg\", \".jpeg\", \".png\"]\n",
    "replace = False\n",
    "mode = 'move'\n",
    "staging = {}\n",
    "server = {\"HOME\": server_home,\n",
    "          \"image\": f\"{server_home}/photo\",\n",
    "          \"video\": f\"{server_home}/video\",\n",
    "          \"audio\": f\"{server_home}/photo\",\n",
    "          \"archive\": f\"{server_home}/documents\"}\n",
    "\n",
    "arguments = Arguments(dump, staging, server, ignore, replace, mode)   \n",
    "\n",
    "# EXPENSIVE OPERATION: List files\n",
    "files = ls_recursive(src_dir=arguments.dump, ignore=arguments.ignore)"
   ]
  },
  {
   "cell_type": "code",
   "execution_count": 4,
   "metadata": {
    "ExecuteTime": {
     "end_time": "2020-05-29T02:56:27.982748Z",
     "start_time": "2020-05-29T02:56:27.825859Z"
    }
   },
   "outputs": [
    {
     "name": "stdout",
     "output_type": "stream",
     "text": [
      "6 files stats collected...\n",
      "stats table built...\n",
      "\n",
      "0/5 files duplicated and ignored\n",
      "5 total files to migrate...\n",
      "\n",
      "Example of migration table:\n",
      "abspath_src                                                      /Users/lorismarini/Downloads/file_example_PPT_250kB.ppt\n",
      "basename_src                                                                                  file_example_PPT_250kB.ppt\n",
      "filename_src                                                                                      file_example_PPT_250kB\n",
      "extension_src                                                                                                       .ppt\n",
      "extension                                                                                                           .ppt\n",
      "file_type                                                                                                        archive\n",
      "file_ext                                                                                                            .ppt\n",
      "st_mtime                                                                                             2020-05-28 07:55:27\n",
      "st_ctime                                                                                             2020-05-28 07:55:33\n",
      "st_size                                                                                                           248320\n",
      "created_at                                                                                           2020-05-28 07:55:27\n",
      "basename_dst                                                                  file_example_PPT_250kB_20200528_075527.ppt\n",
      "parentdir_dst                                                          /home/lorismarini/Downloads/server_test/documents\n",
      "dirname_dst                                                 /home/lorismarini/Downloads/server_test/documents/2020-05-28\n",
      "abspath_dst      /home/lorismarini/Downloads/server_test/documents/2020-05-28/file_example_PPT_250kB_20200528_075527.ppt\n",
      "Name: 0, dtype: object\n",
      "\n",
      "\n"
     ]
    }
   ],
   "source": [
    "# describe files (string ops, fast)\n",
    "shallow = filedesc_shallow(files=files)\n",
    "\n",
    "# grub stats for each file (slower)\n",
    "deep = filedesc_deep(files=files)\n",
    "\n",
    "# Combine\n",
    "description = pd.merge(shallow, deep, how=\"outer\", on=\"abspath_src\").head()\n",
    "\n",
    "# Build a migration table\n",
    "table = migration_table(df=description, dirs=arguments.server)"
   ]
  },
  {
   "cell_type": "code",
   "execution_count": null,
   "metadata": {},
   "outputs": [],
   "source": []
  }
 ],
 "metadata": {
  "hide_input": false,
  "kernelspec": {
   "display_name": "Python 3",
   "language": "python",
   "name": "python3"
  },
  "language_info": {
   "codemirror_mode": {
    "name": "ipython",
    "version": 3
   },
   "file_extension": ".py",
   "mimetype": "text/x-python",
   "name": "python",
   "nbconvert_exporter": "python",
   "pygments_lexer": "ipython3",
   "version": "3.7.7"
  },
  "toc": {
   "base_numbering": 1,
   "nav_menu": {},
   "number_sections": true,
   "sideBar": true,
   "skip_h1_title": false,
   "title_cell": "Table of Contents",
   "title_sidebar": "Contents",
   "toc_cell": false,
   "toc_position": {},
   "toc_section_display": true,
   "toc_window_display": false
  }
 },
 "nbformat": 4,
 "nbformat_minor": 4
}
