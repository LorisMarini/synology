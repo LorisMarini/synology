{
 "cells": [
  {
   "cell_type": "code",
   "execution_count": null,
   "metadata": {},
   "outputs": [],
   "source": [
    "import sys\n",
    "sys.path.append('../code')\n",
    "\n",
    "%run envconfig.py\n",
    "\n",
    "from imports import *\n",
    "from run import *"
   ]
  },
  {
   "cell_type": "code",
   "execution_count": null,
   "metadata": {},
   "outputs": [],
   "source": [
    "glob.glob(f\"/Volumes/photo/200*_elisa*/*.*\", recursive=True)"
   ]
  },
  {
   "cell_type": "code",
   "execution_count": null,
   "metadata": {},
   "outputs": [],
   "source": [
    "# dump\n",
    "dump = \"/Users/lorismarini/Downloads\"\n",
    "staging_home = \"\"\n",
    "server_home = \"/home/lorismarini/Downloads/server_test\"\n",
    "ignore = [\".jpg\", \".jpeg\", \".png\"]\n",
    "replace = False\n",
    "mode = 'move'\n",
    "staging = {}\n",
    "server = {\"HOME\": server_home,\n",
    "          \"image\": f\"{server_home}/photo\",\n",
    "          \"video\": f\"{server_home}/video\",\n",
    "          \"audio\": f\"{server_home}/photo\",\n",
    "          \"archive\": f\"{server_home}/documents\"}\n",
    "\n",
    "arguments = Arguments(dump, staging, server, ignore, replace, mode)   \n",
    "\n",
    "# EXPENSIVE OPERATION: List files\n",
    "files = ls_recursive(src_dir=arguments.dump, ignore=arguments.ignore)"
   ]
  },
  {
   "cell_type": "code",
   "execution_count": null,
   "metadata": {},
   "outputs": [],
   "source": [
    "# describe files (string ops, fast)\n",
    "shallow = filedesc_shallow(files=files)\n",
    "\n",
    "# grub stats for each file (slower)\n",
    "deep = filedesc_deep(files=files)\n",
    "\n",
    "# Combine\n",
    "description = pd.merge(shallow, deep, how=\"outer\", on=\"abspath_src\").head()\n",
    "\n",
    "# Build a migration table\n",
    "table = migration_table(df=description, dirs=arguments.server)"
   ]
  },
  {
   "cell_type": "code",
   "execution_count": null,
   "metadata": {},
   "outputs": [],
   "source": [
    "table"
   ]
  }
 ],
 "metadata": {
  "hide_input": false,
  "kernelspec": {
   "display_name": "Python 3",
   "language": "python",
   "name": "python3"
  },
  "language_info": {
   "codemirror_mode": {
    "name": "ipython",
    "version": 3
   },
   "file_extension": ".py",
   "mimetype": "text/x-python",
   "name": "python",
   "nbconvert_exporter": "python",
   "pygments_lexer": "ipython3",
   "version": "3.7.7"
  },
  "toc": {
   "base_numbering": 1,
   "nav_menu": {},
   "number_sections": true,
   "sideBar": true,
   "skip_h1_title": false,
   "title_cell": "Table of Contents",
   "title_sidebar": "Contents",
   "toc_cell": false,
   "toc_position": {},
   "toc_section_display": true,
   "toc_window_display": false
  }
 },
 "nbformat": 4,
 "nbformat_minor": 4
}
