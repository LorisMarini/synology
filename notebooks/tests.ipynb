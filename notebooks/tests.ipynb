{
 "cells": [
  {
   "cell_type": "code",
   "execution_count": 1,
   "metadata": {
    "ExecuteTime": {
     "end_time": "2020-05-29T09:12:36.837841Z",
     "start_time": "2020-05-29T09:12:35.509575Z"
    }
   },
   "outputs": [
    {
     "data": {
      "text/html": [
       "<style>.container { width:85% !important; }</style>"
      ],
      "text/plain": [
       "<IPython.core.display.HTML object>"
      ]
     },
     "metadata": {},
     "output_type": "display_data"
    }
   ],
   "source": [
    "import sys\n",
    "sys.path.append('../code')\n",
    "\n",
    "%run envconfig.py\n",
    "\n",
    "from imports import *\n",
    "from run import *"
   ]
  },
  {
   "cell_type": "code",
   "execution_count": null,
   "metadata": {
    "ExecuteTime": {
     "end_time": "2020-05-29T11:00:02.349175Z",
     "start_time": "2020-05-29T11:00:02.194748Z"
    }
   },
   "outputs": [],
   "source": [
    "glob.glob(f\"/Volumes/photo/200*_elisa*/*.*\", recursive=True)"
   ]
  },
  {
   "cell_type": "code",
   "execution_count": 6,
   "metadata": {
    "ExecuteTime": {
     "end_time": "2020-05-29T12:52:44.810070Z",
     "start_time": "2020-05-29T12:52:44.279096Z"
    }
   },
   "outputs": [
    {
     "name": "stderr",
     "output_type": "stream",
     "text": [
      "7it [00:00, 887.98it/s]"
     ]
    },
    {
     "name": "stdout",
     "output_type": "stream",
     "text": [
      "Listing all files recursively...\n",
      "0/7 files ignored because contain one or more of ['.jpg', '.jpeg', '.png']\n",
      "7 total files found in src_dir\n"
     ]
    },
    {
     "name": "stderr",
     "output_type": "stream",
     "text": [
      "\n"
     ]
    }
   ],
   "source": [
    "# dump\n",
    "dump = \"/Users/lorismarini/Downloads\"\n",
    "staging_home = \"\"\n",
    "server_home = \"/home/lorismarini/Downloads/server_test\"\n",
    "ignore = [\".jpg\", \".jpeg\", \".png\"]\n",
    "replace = False\n",
    "mode = 'move'\n",
    "staging = {}\n",
    "server = {\"HOME\": server_home,\n",
    "          \"image\": f\"{server_home}/photo\",\n",
    "          \"video\": f\"{server_home}/video\",\n",
    "          \"audio\": f\"{server_home}/photo\",\n",
    "          \"archive\": f\"{server_home}/documents\"}\n",
    "\n",
    "arguments = Arguments(dump, staging, server, ignore, replace, mode)   \n",
    "\n",
    "# EXPENSIVE OPERATION: List files\n",
    "files = ls_recursive(src_dir=arguments.dump, ignore=arguments.ignore)"
   ]
  },
  {
   "cell_type": "code",
   "execution_count": 7,
   "metadata": {
    "ExecuteTime": {
     "end_time": "2020-05-29T12:52:50.616129Z",
     "start_time": "2020-05-29T12:52:50.407582Z"
    }
   },
   "outputs": [
    {
     "name": "stdout",
     "output_type": "stream",
     "text": [
      "WARNING: 1 files with unknown extensions ['.dmg'].\n",
      "0/5 files ignored because duplicated\n",
      "1/5 files ignored because extensions not recognized\n",
      "4/5 files to migrate.\n",
      "\n",
      "Example of migration table:\n",
      "abspath_src                                                      /Users/lorismarini/Downloads/file_example_PPT_250kB.ppt\n",
      "basename_src                                                                                  file_example_PPT_250kB.ppt\n",
      "filename_src                                                                                      file_example_PPT_250kB\n",
      "extension_src                                                                                                       .ppt\n",
      "extension                                                                                                           .ppt\n",
      "file_type                                                                                                        archive\n",
      "file_ext                                                                                                            .ppt\n",
      "st_mtime                                                                                             2020-05-28 07:55:27\n",
      "st_ctime                                                                                             2020-05-28 07:55:33\n",
      "st_size                                                                                                           248320\n",
      "created_at                                                                                           2020-05-28 07:55:27\n",
      "basename_dst                                                                  file_example_PPT_250kB_20200528_075527.ppt\n",
      "parentdir_dst                                                          /home/lorismarini/Downloads/server_test/documents\n",
      "dirname_dst                                                 /home/lorismarini/Downloads/server_test/documents/2020-05-28\n",
      "abspath_dst      /home/lorismarini/Downloads/server_test/documents/2020-05-28/file_example_PPT_250kB_20200528_075527.ppt\n",
      "Name: 0, dtype: object\n",
      "\n",
      "\n"
     ]
    }
   ],
   "source": [
    "# describe files (string ops, fast)\n",
    "shallow = filedesc_shallow(files=files)\n",
    "\n",
    "# grub stats for each file (slower)\n",
    "deep = filedesc_deep(files=files)\n",
    "\n",
    "# Combine\n",
    "description = pd.merge(shallow, deep, how=\"outer\", on=\"abspath_src\").head()\n",
    "\n",
    "# Build a migration table\n",
    "table = migration_table(df=description, dirs=arguments.server)"
   ]
  },
  {
   "cell_type": "code",
   "execution_count": 8,
   "metadata": {
    "ExecuteTime": {
     "end_time": "2020-05-29T12:52:53.074919Z",
     "start_time": "2020-05-29T12:52:52.976205Z"
    }
   },
   "outputs": [
    {
     "data": {
      "text/html": [
       "<div>\n",
       "<style scoped>\n",
       "    .dataframe tbody tr th:only-of-type {\n",
       "        vertical-align: middle;\n",
       "    }\n",
       "\n",
       "    .dataframe tbody tr th {\n",
       "        vertical-align: top;\n",
       "    }\n",
       "\n",
       "    .dataframe thead th {\n",
       "        text-align: right;\n",
       "    }\n",
       "</style>\n",
       "<table border=\"1\" class=\"dataframe\">\n",
       "  <thead>\n",
       "    <tr style=\"text-align: right;\">\n",
       "      <th></th>\n",
       "      <th>abspath_src</th>\n",
       "      <th>basename_src</th>\n",
       "      <th>filename_src</th>\n",
       "      <th>extension_src</th>\n",
       "      <th>extension</th>\n",
       "      <th>file_type</th>\n",
       "      <th>file_ext</th>\n",
       "      <th>st_mtime</th>\n",
       "      <th>st_ctime</th>\n",
       "      <th>st_size</th>\n",
       "      <th>created_at</th>\n",
       "      <th>basename_dst</th>\n",
       "      <th>parentdir_dst</th>\n",
       "      <th>dirname_dst</th>\n",
       "      <th>abspath_dst</th>\n",
       "    </tr>\n",
       "  </thead>\n",
       "  <tbody>\n",
       "    <tr>\n",
       "      <th>0</th>\n",
       "      <td>/Users/lorismarini/Downloads/file_example_PPT_250kB.ppt</td>\n",
       "      <td>file_example_PPT_250kB.ppt</td>\n",
       "      <td>file_example_PPT_250kB</td>\n",
       "      <td>.ppt</td>\n",
       "      <td>.ppt</td>\n",
       "      <td>archive</td>\n",
       "      <td>.ppt</td>\n",
       "      <td>2020-05-28 07:55:27</td>\n",
       "      <td>2020-05-28 07:55:33</td>\n",
       "      <td>248320</td>\n",
       "      <td>2020-05-28 07:55:27</td>\n",
       "      <td>file_example_PPT_250kB_20200528_075527.ppt</td>\n",
       "      <td>/home/lorismarini/Downloads/server_test/documents</td>\n",
       "      <td>/home/lorismarini/Downloads/server_test/documents/2020-05-28</td>\n",
       "      <td>/home/lorismarini/Downloads/server_test/documents/2020-05-28/file_example_PPT_250kB_20200528_075527.ppt</td>\n",
       "    </tr>\n",
       "    <tr>\n",
       "      <th>1</th>\n",
       "      <td>/Users/lorismarini/Downloads/Spectrum of BD Flashes.pdf</td>\n",
       "      <td>Spectrum of BD Flashes.pdf</td>\n",
       "      <td>Spectrum of BD Flashes</td>\n",
       "      <td>.pdf</td>\n",
       "      <td>.pdf</td>\n",
       "      <td>archive</td>\n",
       "      <td>.pdf</td>\n",
       "      <td>2020-05-28 14:06:16</td>\n",
       "      <td>2020-05-28 14:06:19</td>\n",
       "      <td>28675</td>\n",
       "      <td>2020-05-28 14:06:16</td>\n",
       "      <td>Spectrum of BD Flashes_20200528_140616.pdf</td>\n",
       "      <td>/home/lorismarini/Downloads/server_test/documents</td>\n",
       "      <td>/home/lorismarini/Downloads/server_test/documents/2020-05-28</td>\n",
       "      <td>/home/lorismarini/Downloads/server_test/documents/2020-05-28/Spectrum of BD Flashes_20200528_140616.pdf</td>\n",
       "    </tr>\n",
       "    <tr>\n",
       "      <th>2</th>\n",
       "      <td>/Users/lorismarini/Downloads/file_example_XLSX_10.xlsx</td>\n",
       "      <td>file_example_XLSX_10.xlsx</td>\n",
       "      <td>file_example_XLSX_10</td>\n",
       "      <td>.xlsx</td>\n",
       "      <td>.xlsx</td>\n",
       "      <td>archive</td>\n",
       "      <td>.xlsx</td>\n",
       "      <td>2020-05-28 07:54:40</td>\n",
       "      <td>2020-05-28 07:54:41</td>\n",
       "      <td>5425</td>\n",
       "      <td>2020-05-28 07:54:40</td>\n",
       "      <td>file_example_XLSX_10_20200528_075440.xlsx</td>\n",
       "      <td>/home/lorismarini/Downloads/server_test/documents</td>\n",
       "      <td>/home/lorismarini/Downloads/server_test/documents/2020-05-28</td>\n",
       "      <td>/home/lorismarini/Downloads/server_test/documents/2020-05-28/file_example_XLSX_10_20200528_075440.xlsx</td>\n",
       "    </tr>\n",
       "    <tr>\n",
       "      <th>3</th>\n",
       "      <td>/Users/lorismarini/Downloads/file-sample_100kB.doc</td>\n",
       "      <td>file-sample_100kB.doc</td>\n",
       "      <td>file-sample_100kB</td>\n",
       "      <td>.doc</td>\n",
       "      <td>.doc</td>\n",
       "      <td>archive</td>\n",
       "      <td>.doc</td>\n",
       "      <td>2020-05-28 07:54:18</td>\n",
       "      <td>2020-05-28 07:54:19</td>\n",
       "      <td>100352</td>\n",
       "      <td>2020-05-28 07:54:18</td>\n",
       "      <td>file-sample_100kB_20200528_075418.doc</td>\n",
       "      <td>/home/lorismarini/Downloads/server_test/documents</td>\n",
       "      <td>/home/lorismarini/Downloads/server_test/documents/2020-05-28</td>\n",
       "      <td>/home/lorismarini/Downloads/server_test/documents/2020-05-28/file-sample_100kB_20200528_075418.doc</td>\n",
       "    </tr>\n",
       "  </tbody>\n",
       "</table>\n",
       "</div>"
      ],
      "text/plain": [
       "                                               abspath_src  \\\n",
       "0  /Users/lorismarini/Downloads/file_example_PPT_250kB.ppt   \n",
       "1  /Users/lorismarini/Downloads/Spectrum of BD Flashes.pdf   \n",
       "2   /Users/lorismarini/Downloads/file_example_XLSX_10.xlsx   \n",
       "3       /Users/lorismarini/Downloads/file-sample_100kB.doc   \n",
       "\n",
       "                 basename_src            filename_src extension_src extension  \\\n",
       "0  file_example_PPT_250kB.ppt  file_example_PPT_250kB          .ppt      .ppt   \n",
       "1  Spectrum of BD Flashes.pdf  Spectrum of BD Flashes          .pdf      .pdf   \n",
       "2   file_example_XLSX_10.xlsx    file_example_XLSX_10         .xlsx     .xlsx   \n",
       "3       file-sample_100kB.doc       file-sample_100kB          .doc      .doc   \n",
       "\n",
       "  file_type file_ext            st_mtime            st_ctime  st_size  \\\n",
       "0   archive     .ppt 2020-05-28 07:55:27 2020-05-28 07:55:33   248320   \n",
       "1   archive     .pdf 2020-05-28 14:06:16 2020-05-28 14:06:19    28675   \n",
       "2   archive    .xlsx 2020-05-28 07:54:40 2020-05-28 07:54:41     5425   \n",
       "3   archive     .doc 2020-05-28 07:54:18 2020-05-28 07:54:19   100352   \n",
       "\n",
       "           created_at                                basename_dst  \\\n",
       "0 2020-05-28 07:55:27  file_example_PPT_250kB_20200528_075527.ppt   \n",
       "1 2020-05-28 14:06:16  Spectrum of BD Flashes_20200528_140616.pdf   \n",
       "2 2020-05-28 07:54:40   file_example_XLSX_10_20200528_075440.xlsx   \n",
       "3 2020-05-28 07:54:18       file-sample_100kB_20200528_075418.doc   \n",
       "\n",
       "                                       parentdir_dst  \\\n",
       "0  /home/lorismarini/Downloads/server_test/documents   \n",
       "1  /home/lorismarini/Downloads/server_test/documents   \n",
       "2  /home/lorismarini/Downloads/server_test/documents   \n",
       "3  /home/lorismarini/Downloads/server_test/documents   \n",
       "\n",
       "                                                    dirname_dst  \\\n",
       "0  /home/lorismarini/Downloads/server_test/documents/2020-05-28   \n",
       "1  /home/lorismarini/Downloads/server_test/documents/2020-05-28   \n",
       "2  /home/lorismarini/Downloads/server_test/documents/2020-05-28   \n",
       "3  /home/lorismarini/Downloads/server_test/documents/2020-05-28   \n",
       "\n",
       "                                                                                               abspath_dst  \n",
       "0  /home/lorismarini/Downloads/server_test/documents/2020-05-28/file_example_PPT_250kB_20200528_075527.ppt  \n",
       "1  /home/lorismarini/Downloads/server_test/documents/2020-05-28/Spectrum of BD Flashes_20200528_140616.pdf  \n",
       "2   /home/lorismarini/Downloads/server_test/documents/2020-05-28/file_example_XLSX_10_20200528_075440.xlsx  \n",
       "3       /home/lorismarini/Downloads/server_test/documents/2020-05-28/file-sample_100kB_20200528_075418.doc  "
      ]
     },
     "execution_count": 8,
     "metadata": {},
     "output_type": "execute_result"
    }
   ],
   "source": [
    "table"
   ]
  }
 ],
 "metadata": {
  "hide_input": false,
  "kernelspec": {
   "display_name": "Python 3",
   "language": "python",
   "name": "python3"
  },
  "language_info": {
   "codemirror_mode": {
    "name": "ipython",
    "version": 3
   },
   "file_extension": ".py",
   "mimetype": "text/x-python",
   "name": "python",
   "nbconvert_exporter": "python",
   "pygments_lexer": "ipython3",
   "version": "3.7.7"
  },
  "toc": {
   "base_numbering": 1,
   "nav_menu": {},
   "number_sections": true,
   "sideBar": true,
   "skip_h1_title": false,
   "title_cell": "Table of Contents",
   "title_sidebar": "Contents",
   "toc_cell": false,
   "toc_position": {},
   "toc_section_display": true,
   "toc_window_display": false
  }
 },
 "nbformat": 4,
 "nbformat_minor": 4
}
