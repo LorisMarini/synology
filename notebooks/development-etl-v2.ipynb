{
 "cells": [
  {
   "cell_type": "code",
   "execution_count": null,
   "metadata": {},
   "outputs": [],
   "source": [
    "import sys\n",
    "\n",
    "sys.path.append('../code')\n",
    "\n",
    "%run envconfig.py\n",
    "\n",
    "from imports import *\n",
    "from run import *"
   ]
  },
  {
   "cell_type": "code",
   "execution_count": null,
   "metadata": {},
   "outputs": [],
   "source": [
    "# dump\n",
    "dump = \"/Volumes/elisa/ISA Liceo\"\n",
    "staging_home = \"\"\n",
    "server_home = \"/Volumes/homes/Elisa/Drive/Moments/Mobile/old-memories\"\n",
    "ignore = []\n",
    "replace = True\n",
    "mode = 'move'\n",
    "staging = {}\n",
    "server = {\"HOME\": server_home,\n",
    "          \"image\": f\"{server_home}\",\n",
    "          \"video\": f\"{server_home}\",\n",
    "          \"audio\": f\"{server_home}\",\n",
    "          \"archive\": f\"{server_home}\"}\n",
    "\n",
    "arguments = Arguments(dump, staging, server, ignore, replace, mode)   "
   ]
  },
  {
   "cell_type": "code",
   "execution_count": null,
   "metadata": {},
   "outputs": [],
   "source": [
    "files = glob.glob(\"/Volumes/photo/*_elisa*/**/*.*\", recursive=True)"
   ]
  },
  {
   "cell_type": "code",
   "execution_count": null,
   "metadata": {},
   "outputs": [],
   "source": [
    "# describe files (string ops, fast)\n",
    "shallow = filedesc_shallow(files=files)\n",
    "    \n",
    "# Keep only videos and images\n",
    "shallow = shallow[shallow[\"file_type\"].isin([\"video\", \"image\"])].reset_index(drop=True)\n",
    "\n",
    "# describe files (string ops, fast)\n",
    "shallow = filedesc_shallow(files=files)\n",
    "\n",
    "# grub stats for each file (slower)\n",
    "deep = filedesc_deep(files=files)\n",
    "\n",
    "# Combine\n",
    "description = pd.merge(shallow, deep, how=\"outer\", on=\"abspath_src\")"
   ]
  },
  {
   "cell_type": "code",
   "execution_count": null,
   "metadata": {},
   "outputs": [],
   "source": [
    "# Leave files before we met\n",
    "description = description[description[\"created_at\"] < pd.Timestamp(\"2010-07-01\")].reset_index(drop=True)"
   ]
  },
  {
   "cell_type": "code",
   "execution_count": null,
   "metadata": {},
   "outputs": [],
   "source": [
    "# Build a migration table\n",
    "table = migration_table(df=description, dirs=arguments.server)\n",
    "print(\"Plan ready.\")"
   ]
  },
  {
   "cell_type": "code",
   "execution_count": null,
   "metadata": {},
   "outputs": [],
   "source": [
    "execute(df=table, mode=arguments.mode, replace=arguments.replace)"
   ]
  },
  {
   "cell_type": "code",
   "execution_count": null,
   "metadata": {},
   "outputs": [],
   "source": [
    "plan = plan_migration(src_dir=arguments.dump, arguments=arguments)"
   ]
  },
  {
   "cell_type": "code",
   "execution_count": null,
   "metadata": {},
   "outputs": [],
   "source": [
    "stage(arguments)"
   ]
  },
  {
   "cell_type": "code",
   "execution_count": null,
   "metadata": {},
   "outputs": [],
   "source": [
    "load(arguments)"
   ]
  }
 ],
 "metadata": {
  "hide_input": false,
  "kernelspec": {
   "display_name": "Python 3",
   "language": "python",
   "name": "python3"
  },
  "language_info": {
   "codemirror_mode": {
    "name": "ipython",
    "version": 3
   },
   "file_extension": ".py",
   "mimetype": "text/x-python",
   "name": "python",
   "nbconvert_exporter": "python",
   "pygments_lexer": "ipython3",
   "version": "3.7.7"
  },
  "toc": {
   "base_numbering": 1,
   "nav_menu": {},
   "number_sections": true,
   "sideBar": true,
   "skip_h1_title": false,
   "title_cell": "Table of Contents",
   "title_sidebar": "Contents",
   "toc_cell": false,
   "toc_position": {},
   "toc_section_display": true,
   "toc_window_display": false
  }
 },
 "nbformat": 4,
 "nbformat_minor": 4
}
