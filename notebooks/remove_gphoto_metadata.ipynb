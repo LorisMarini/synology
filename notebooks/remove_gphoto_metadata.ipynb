{
 "cells": [
  {
   "cell_type": "markdown",
   "metadata": {},
   "source": [
    "## Why\n",
    "When exporting photos from Google Photos you get a dir structure that looks like the one below. We want to search recursively for all metadata files that end in .json and move them to another directory tree with the same folder structure. \n",
    "\n",
    "We create `fn_meta_src` and `fn_meta_dst` as two python lists containing the absolute paths to metadata files before and after they were moved"
   ]
  },
  {
   "cell_type": "code",
   "execution_count": 90,
   "metadata": {
    "ExecuteTime": {
     "end_time": "2020-05-25T03:12:15.625863Z",
     "start_time": "2020-05-25T03:12:15.499138Z"
    }
   },
   "outputs": [],
   "source": [
    "import os\n",
    "import glob\n",
    "import shutil\n",
    "import pandas as pd\n",
    "from shutil import copyfile\n",
    "pd.options.display.max_rows = 1000\n",
    "pd.set_option('max_colwidth', 100)"
   ]
  },
  {
   "cell_type": "markdown",
   "metadata": {},
   "source": [
    "    |-- basedir\n",
    "    |   |-- 2016-01-01\n",
    "    |   |   |-- filename-1.jpg\n",
    "    |   |   |-- filename-2.jpg.json\n",
    "    |   |   |-- filename-3.jpg\n",
    "    |   |   |-- filename-3.jpg.json\n",
    "    |   |-- 2016-01-02\n"
   ]
  },
  {
   "cell_type": "code",
   "execution_count": 91,
   "metadata": {
    "ExecuteTime": {
     "end_time": "2020-05-25T03:12:20.344790Z",
     "start_time": "2020-05-25T03:12:18.193770Z"
    }
   },
   "outputs": [],
   "source": [
    "# Directory containing the export (extracted archive)\n",
    "base_path = f'/Users/lorismarini/Desktop/google-photos-elisa-takeout'\n",
    "\n",
    "# Directory for the output (files in folders)\n",
    "output_path = f'/Users/lorismarini/Desktop/google-photos-elisa-to-synology'\n",
    "\n",
    "# Search for all files recursively\n",
    "files_all = [name for name in glob.glob(f\"{base_path}/**/*.*\", recursive=True)]\n",
    "\n",
    "# Filter out all json files\n",
    "files_keep = [name for name in files_all if not name.endswith(\".json\")]\n",
    "\n",
    "# Extract basenames of files to keep\n",
    "basenames_keep = [os.path.basename(f) for f in files_keep]"
   ]
  },
  {
   "cell_type": "code",
   "execution_count": 92,
   "metadata": {
    "ExecuteTime": {
     "end_time": "2020-05-25T03:12:23.862373Z",
     "start_time": "2020-05-25T03:12:22.414496Z"
    }
   },
   "outputs": [
    {
     "name": "stdout",
     "output_type": "stream",
     "text": [
      "13929 files to move...\n",
      "480 files ingored...\n"
     ]
    }
   ],
   "source": [
    "# Build a dataframe\n",
    "df = pd.DataFrame({\"abspath_src\":files_keep, \"basenames\":basenames_keep})\n",
    "\n",
    "# Determine if the first two characters of the basename are letters\n",
    "df[\"is_alpha\"] = df[\"basenames\"].apply(lambda x: x[:2].isalpha())\n",
    "\n",
    "# --------------- PARSE TIME --------------------\n",
    "\n",
    "def timestring_starts_number(n):\n",
    "    \"\"\"Parse time for filenames starting with numbers\n",
    "    \"\"\"\n",
    "    return n.split(\"_\")[0]\n",
    "\n",
    "def timestring_starts_alpha(n):\n",
    "    \"\"\"Parse time for filenames starting with letters\n",
    "    \"\"\"\n",
    "    if \"-\" in n:\n",
    "        parts = n.split(\"-\")\n",
    "    elif \"_\" in n:\n",
    "        parts = n.split(\"_\")\n",
    "    else:\n",
    "        return \"\"\n",
    "    if len(parts)>1:\n",
    "        return parts[1]\n",
    "    else:\n",
    "        return parts[0]\n",
    "    \n",
    "# Parse for is_alpha = True\n",
    "alpha = df[\"is_alpha\"]==True\n",
    "df.loc[alpha, \"time\"] = pd.to_datetime(df.loc[alpha, \"basenames\"].apply(timestring_starts_alpha), errors=\"coerce\")\n",
    "\n",
    "# Parse for is_alpha = False\n",
    "where = df[\"is_alpha\"]==False\n",
    "df.loc[where, \"time\"] = pd.to_datetime(df.loc[where, \"basenames\"].apply(timestring_starts_number), errors=\"coerce\")\n",
    "\n",
    "# Folder name from datetime\n",
    "df[\"basedir_dest\"] = df[\"time\"].dt.date.astype(str)\n",
    "\n",
    "# Dirname destination path\n",
    "df[\"dirname_dest\"] = df[\"basedir_dest\"].apply(lambda x: os.path.join(output_path, x))\n",
    "\n",
    "# Abspath destination\n",
    "df[\"abspath_dest\"] = df[\"dirname_dest\"] + \"/\" + df[\"basenames\"]\n",
    "\n",
    "files_to_move = df[~df[\"time\"].isnull()].shape[0]\n",
    "files_ignored = df[df[\"time\"].isnull()].shape[0]\n",
    "\n",
    "print(f\"{files_to_move} files to move...\")\n",
    "print(f\"{files_ignored} files ingored...\")"
   ]
  },
  {
   "cell_type": "code",
   "execution_count": 88,
   "metadata": {
    "ExecuteTime": {
     "end_time": "2020-05-25T00:52:17.741519Z",
     "start_time": "2020-05-25T00:52:17.698602Z"
    },
    "scrolled": true
   },
   "outputs": [
    {
     "data": {
      "text/html": [
       "<div>\n",
       "<style scoped>\n",
       "    .dataframe tbody tr th:only-of-type {\n",
       "        vertical-align: middle;\n",
       "    }\n",
       "\n",
       "    .dataframe tbody tr th {\n",
       "        vertical-align: top;\n",
       "    }\n",
       "\n",
       "    .dataframe thead th {\n",
       "        text-align: right;\n",
       "    }\n",
       "</style>\n",
       "<table border=\"1\" class=\"dataframe\">\n",
       "  <thead>\n",
       "    <tr style=\"text-align: right;\">\n",
       "      <th></th>\n",
       "      <th>abspath_src</th>\n",
       "      <th>basenames</th>\n",
       "      <th>is_alpha</th>\n",
       "      <th>time</th>\n",
       "      <th>basedir_dest</th>\n",
       "      <th>dirname_dest</th>\n",
       "      <th>abspath_dest</th>\n",
       "    </tr>\n",
       "  </thead>\n",
       "  <tbody>\n",
       "    <tr>\n",
       "      <th>0</th>\n",
       "      <td>/Users/lorismarini/Desktop/google-photos-elisa-takeout/Takeout_01/Google Photos/2020-04-28/IMG-2...</td>\n",
       "      <td>IMG-20200428-WA0006(1).jpg</td>\n",
       "      <td>True</td>\n",
       "      <td>2020-04-28</td>\n",
       "      <td>2020-04-28</td>\n",
       "      <td>/Users/lorismarini/Desktop/google-photos-elisa-to-synology/2020-04-28</td>\n",
       "      <td>/Users/lorismarini/Desktop/google-photos-elisa-to-synology/2020-04-28/IMG-20200428-WA0006(1).jpg</td>\n",
       "    </tr>\n",
       "    <tr>\n",
       "      <th>1</th>\n",
       "      <td>/Users/lorismarini/Desktop/google-photos-elisa-takeout/Takeout_01/Google Photos/2020-04-28/20200...</td>\n",
       "      <td>20200428_070028.jpg</td>\n",
       "      <td>False</td>\n",
       "      <td>2020-04-28</td>\n",
       "      <td>2020-04-28</td>\n",
       "      <td>/Users/lorismarini/Desktop/google-photos-elisa-to-synology/2020-04-28</td>\n",
       "      <td>/Users/lorismarini/Desktop/google-photos-elisa-to-synology/2020-04-28/20200428_070028.jpg</td>\n",
       "    </tr>\n",
       "    <tr>\n",
       "      <th>2</th>\n",
       "      <td>/Users/lorismarini/Desktop/google-photos-elisa-takeout/Takeout_01/Google Photos/2020-04-28/IMG-2...</td>\n",
       "      <td>IMG-20200428-WA0016(1).jpg</td>\n",
       "      <td>True</td>\n",
       "      <td>2020-04-28</td>\n",
       "      <td>2020-04-28</td>\n",
       "      <td>/Users/lorismarini/Desktop/google-photos-elisa-to-synology/2020-04-28</td>\n",
       "      <td>/Users/lorismarini/Desktop/google-photos-elisa-to-synology/2020-04-28/IMG-20200428-WA0016(1).jpg</td>\n",
       "    </tr>\n",
       "    <tr>\n",
       "      <th>3</th>\n",
       "      <td>/Users/lorismarini/Desktop/google-photos-elisa-takeout/Takeout_01/Google Photos/2020-04-28/IMG-2...</td>\n",
       "      <td>IMG-20200428-WA0008(1).jpg</td>\n",
       "      <td>True</td>\n",
       "      <td>2020-04-28</td>\n",
       "      <td>2020-04-28</td>\n",
       "      <td>/Users/lorismarini/Desktop/google-photos-elisa-to-synology/2020-04-28</td>\n",
       "      <td>/Users/lorismarini/Desktop/google-photos-elisa-to-synology/2020-04-28/IMG-20200428-WA0008(1).jpg</td>\n",
       "    </tr>\n",
       "    <tr>\n",
       "      <th>4</th>\n",
       "      <td>/Users/lorismarini/Desktop/google-photos-elisa-takeout/Takeout_01/Google Photos/2020-04-28/20200...</td>\n",
       "      <td>20200428_152934.jpg</td>\n",
       "      <td>False</td>\n",
       "      <td>2020-04-28</td>\n",
       "      <td>2020-04-28</td>\n",
       "      <td>/Users/lorismarini/Desktop/google-photos-elisa-to-synology/2020-04-28</td>\n",
       "      <td>/Users/lorismarini/Desktop/google-photos-elisa-to-synology/2020-04-28/20200428_152934.jpg</td>\n",
       "    </tr>\n",
       "    <tr>\n",
       "      <th>...</th>\n",
       "      <td>...</td>\n",
       "      <td>...</td>\n",
       "      <td>...</td>\n",
       "      <td>...</td>\n",
       "      <td>...</td>\n",
       "      <td>...</td>\n",
       "      <td>...</td>\n",
       "    </tr>\n",
       "    <tr>\n",
       "      <th>14404</th>\n",
       "      <td>/Users/lorismarini/Desktop/google-photos-elisa-takeout/Takeout 7/Google Photos/2017-05-18/IMG_20...</td>\n",
       "      <td>IMG_20170518_101928.jpg</td>\n",
       "      <td>True</td>\n",
       "      <td>2017-05-18</td>\n",
       "      <td>2017-05-18</td>\n",
       "      <td>/Users/lorismarini/Desktop/google-photos-elisa-to-synology/2017-05-18</td>\n",
       "      <td>/Users/lorismarini/Desktop/google-photos-elisa-to-synology/2017-05-18/IMG_20170518_101928.jpg</td>\n",
       "    </tr>\n",
       "    <tr>\n",
       "      <th>14405</th>\n",
       "      <td>/Users/lorismarini/Desktop/google-photos-elisa-takeout/Takeout 7/Google Photos/2017-05-18/IMG_20...</td>\n",
       "      <td>IMG_20170518_180255_HDR.jpg</td>\n",
       "      <td>True</td>\n",
       "      <td>2017-05-18</td>\n",
       "      <td>2017-05-18</td>\n",
       "      <td>/Users/lorismarini/Desktop/google-photos-elisa-to-synology/2017-05-18</td>\n",
       "      <td>/Users/lorismarini/Desktop/google-photos-elisa-to-synology/2017-05-18/IMG_20170518_180255_HDR.jpg</td>\n",
       "    </tr>\n",
       "    <tr>\n",
       "      <th>14406</th>\n",
       "      <td>/Users/lorismarini/Desktop/google-photos-elisa-takeout/Takeout 7/Google Photos/2017-05-18/IMG_20...</td>\n",
       "      <td>IMG_20170518_121625.jpg</td>\n",
       "      <td>True</td>\n",
       "      <td>2017-05-18</td>\n",
       "      <td>2017-05-18</td>\n",
       "      <td>/Users/lorismarini/Desktop/google-photos-elisa-to-synology/2017-05-18</td>\n",
       "      <td>/Users/lorismarini/Desktop/google-photos-elisa-to-synology/2017-05-18/IMG_20170518_121625.jpg</td>\n",
       "    </tr>\n",
       "    <tr>\n",
       "      <th>14407</th>\n",
       "      <td>/Users/lorismarini/Desktop/google-photos-elisa-takeout/Takeout 7/Google Photos/2017-05-18/IMG_20...</td>\n",
       "      <td>IMG_20170518_101907.jpg</td>\n",
       "      <td>True</td>\n",
       "      <td>2017-05-18</td>\n",
       "      <td>2017-05-18</td>\n",
       "      <td>/Users/lorismarini/Desktop/google-photos-elisa-to-synology/2017-05-18</td>\n",
       "      <td>/Users/lorismarini/Desktop/google-photos-elisa-to-synology/2017-05-18/IMG_20170518_101907.jpg</td>\n",
       "    </tr>\n",
       "    <tr>\n",
       "      <th>14408</th>\n",
       "      <td>/Users/lorismarini/Desktop/google-photos-elisa-takeout/Takeout 7/Google Photos/2017-05-18/IMG_20...</td>\n",
       "      <td>IMG_20170518_141242_HDR.jpg</td>\n",
       "      <td>True</td>\n",
       "      <td>2017-05-18</td>\n",
       "      <td>2017-05-18</td>\n",
       "      <td>/Users/lorismarini/Desktop/google-photos-elisa-to-synology/2017-05-18</td>\n",
       "      <td>/Users/lorismarini/Desktop/google-photos-elisa-to-synology/2017-05-18/IMG_20170518_141242_HDR.jpg</td>\n",
       "    </tr>\n",
       "  </tbody>\n",
       "</table>\n",
       "<p>13929 rows × 7 columns</p>\n",
       "</div>"
      ],
      "text/plain": [
       "                                                                                               abspath_src  \\\n",
       "0      /Users/lorismarini/Desktop/google-photos-elisa-takeout/Takeout_01/Google Photos/2020-04-28/IMG-2...   \n",
       "1      /Users/lorismarini/Desktop/google-photos-elisa-takeout/Takeout_01/Google Photos/2020-04-28/20200...   \n",
       "2      /Users/lorismarini/Desktop/google-photos-elisa-takeout/Takeout_01/Google Photos/2020-04-28/IMG-2...   \n",
       "3      /Users/lorismarini/Desktop/google-photos-elisa-takeout/Takeout_01/Google Photos/2020-04-28/IMG-2...   \n",
       "4      /Users/lorismarini/Desktop/google-photos-elisa-takeout/Takeout_01/Google Photos/2020-04-28/20200...   \n",
       "...                                                                                                    ...   \n",
       "14404  /Users/lorismarini/Desktop/google-photos-elisa-takeout/Takeout 7/Google Photos/2017-05-18/IMG_20...   \n",
       "14405  /Users/lorismarini/Desktop/google-photos-elisa-takeout/Takeout 7/Google Photos/2017-05-18/IMG_20...   \n",
       "14406  /Users/lorismarini/Desktop/google-photos-elisa-takeout/Takeout 7/Google Photos/2017-05-18/IMG_20...   \n",
       "14407  /Users/lorismarini/Desktop/google-photos-elisa-takeout/Takeout 7/Google Photos/2017-05-18/IMG_20...   \n",
       "14408  /Users/lorismarini/Desktop/google-photos-elisa-takeout/Takeout 7/Google Photos/2017-05-18/IMG_20...   \n",
       "\n",
       "                         basenames  is_alpha       time basedir_dest  \\\n",
       "0       IMG-20200428-WA0006(1).jpg      True 2020-04-28   2020-04-28   \n",
       "1              20200428_070028.jpg     False 2020-04-28   2020-04-28   \n",
       "2       IMG-20200428-WA0016(1).jpg      True 2020-04-28   2020-04-28   \n",
       "3       IMG-20200428-WA0008(1).jpg      True 2020-04-28   2020-04-28   \n",
       "4              20200428_152934.jpg     False 2020-04-28   2020-04-28   \n",
       "...                            ...       ...        ...          ...   \n",
       "14404      IMG_20170518_101928.jpg      True 2017-05-18   2017-05-18   \n",
       "14405  IMG_20170518_180255_HDR.jpg      True 2017-05-18   2017-05-18   \n",
       "14406      IMG_20170518_121625.jpg      True 2017-05-18   2017-05-18   \n",
       "14407      IMG_20170518_101907.jpg      True 2017-05-18   2017-05-18   \n",
       "14408  IMG_20170518_141242_HDR.jpg      True 2017-05-18   2017-05-18   \n",
       "\n",
       "                                                                dirname_dest  \\\n",
       "0      /Users/lorismarini/Desktop/google-photos-elisa-to-synology/2020-04-28   \n",
       "1      /Users/lorismarini/Desktop/google-photos-elisa-to-synology/2020-04-28   \n",
       "2      /Users/lorismarini/Desktop/google-photos-elisa-to-synology/2020-04-28   \n",
       "3      /Users/lorismarini/Desktop/google-photos-elisa-to-synology/2020-04-28   \n",
       "4      /Users/lorismarini/Desktop/google-photos-elisa-to-synology/2020-04-28   \n",
       "...                                                                      ...   \n",
       "14404  /Users/lorismarini/Desktop/google-photos-elisa-to-synology/2017-05-18   \n",
       "14405  /Users/lorismarini/Desktop/google-photos-elisa-to-synology/2017-05-18   \n",
       "14406  /Users/lorismarini/Desktop/google-photos-elisa-to-synology/2017-05-18   \n",
       "14407  /Users/lorismarini/Desktop/google-photos-elisa-to-synology/2017-05-18   \n",
       "14408  /Users/lorismarini/Desktop/google-photos-elisa-to-synology/2017-05-18   \n",
       "\n",
       "                                                                                            abspath_dest  \n",
       "0       /Users/lorismarini/Desktop/google-photos-elisa-to-synology/2020-04-28/IMG-20200428-WA0006(1).jpg  \n",
       "1              /Users/lorismarini/Desktop/google-photos-elisa-to-synology/2020-04-28/20200428_070028.jpg  \n",
       "2       /Users/lorismarini/Desktop/google-photos-elisa-to-synology/2020-04-28/IMG-20200428-WA0016(1).jpg  \n",
       "3       /Users/lorismarini/Desktop/google-photos-elisa-to-synology/2020-04-28/IMG-20200428-WA0008(1).jpg  \n",
       "4              /Users/lorismarini/Desktop/google-photos-elisa-to-synology/2020-04-28/20200428_152934.jpg  \n",
       "...                                                                                                  ...  \n",
       "14404      /Users/lorismarini/Desktop/google-photos-elisa-to-synology/2017-05-18/IMG_20170518_101928.jpg  \n",
       "14405  /Users/lorismarini/Desktop/google-photos-elisa-to-synology/2017-05-18/IMG_20170518_180255_HDR.jpg  \n",
       "14406      /Users/lorismarini/Desktop/google-photos-elisa-to-synology/2017-05-18/IMG_20170518_121625.jpg  \n",
       "14407      /Users/lorismarini/Desktop/google-photos-elisa-to-synology/2017-05-18/IMG_20170518_101907.jpg  \n",
       "14408  /Users/lorismarini/Desktop/google-photos-elisa-to-synology/2017-05-18/IMG_20170518_141242_HDR.jpg  \n",
       "\n",
       "[13929 rows x 7 columns]"
      ]
     },
     "execution_count": 88,
     "metadata": {},
     "output_type": "execute_result"
    }
   ],
   "source": [
    "df_tomove"
   ]
  },
  {
   "cell_type": "code",
   "execution_count": 79,
   "metadata": {
    "ExecuteTime": {
     "end_time": "2020-05-25T00:39:44.422638Z",
     "start_time": "2020-05-25T00:39:44.286931Z"
    }
   },
   "outputs": [
    {
     "name": "stdout",
     "output_type": "stream",
     "text": [
      "1158 directories consolidated...\n"
     ]
    }
   ],
   "source": [
    "df_tomove = df[~df[\"time\"].isnull()]\n",
    "\n",
    "# Create destination directories if they don't exist\n",
    "dirname_dest_unique = df_tomove[\"dirname_dest\"].unique()\n",
    "_ = [os.makedirs(d) for d in dirname_dest_unique]\n",
    "print(f\"{len(dirname_dest_unique)} directories consolidated...\")"
   ]
  },
  {
   "cell_type": "code",
   "execution_count": 89,
   "metadata": {
    "ExecuteTime": {
     "end_time": "2020-05-25T00:54:07.602746Z",
     "start_time": "2020-05-25T00:54:06.534871Z"
    }
   },
   "outputs": [
    {
     "name": "stdout",
     "output_type": "stream",
     "text": [
      "0 moved\n",
      "13929 already moved\n",
      "0 lost\n"
     ]
    }
   ],
   "source": [
    "moved = 0\n",
    "already_moved = 0\n",
    "lost = 0\n",
    "for i in df_tomove.index:\n",
    "\n",
    "    # Move file\n",
    "    src = df_tomove.loc[i,\"abspath_src\"]\n",
    "    dst = df_tomove.loc[i,\"abspath_dest\"]\n",
    "    \n",
    "    if os.path.exists(src):\n",
    "        # Move file\n",
    "        shutil.move(src, dst)\n",
    "        moved += 1\n",
    "    elif os.path.exists(dst):\n",
    "        # File already moved skip\n",
    "        already_moved += 1\n",
    "        pass\n",
    "    else:\n",
    "        lost += 1\n",
    "        print(f\"DATA INTEGRITY ERROR, File not found in src {src} or dst {dst}!\")\n",
    "        \n",
    "print(f\"{moved} moved\")\n",
    "print(f\"{already_moved} already moved\")\n",
    "print(f\"{lost} lost\")"
   ]
  },
  {
   "cell_type": "code",
   "execution_count": null,
   "metadata": {},
   "outputs": [],
   "source": []
  },
  {
   "cell_type": "code",
   "execution_count": 20,
   "metadata": {
    "ExecuteTime": {
     "end_time": "2019-09-12T03:47:13.627852Z",
     "start_time": "2019-09-12T03:47:13.622732Z"
    }
   },
   "outputs": [
    {
     "data": {
      "text/plain": [
       "os.stat_result(st_mode=33261, st_ino=12888549170, st_dev=16777220, st_nlink=1, st_uid=501, st_gid=20, st_size=33495847, st_atime=1568179058, st_mtime=1567890000, st_ctime=1568178688)"
      ]
     },
     "execution_count": 20,
     "metadata": {},
     "output_type": "execute_result"
    }
   ],
   "source": [
    "import os\n",
    "os.stat(file_names[0])"
   ]
  },
  {
   "cell_type": "code",
   "execution_count": 33,
   "metadata": {
    "ExecuteTime": {
     "end_time": "2019-09-13T02:17:26.782844Z",
     "start_time": "2019-09-13T02:17:26.740169Z"
    }
   },
   "outputs": [],
   "source": [
    "dir_name_photos = \"loris_google_photos_takeout\"\n",
    "base_path = f'/Users/lorismarini/Desktop/{dir_name_photos}'\n",
    "\n",
    "# Search for all files recursively\n",
    "file_names = [name for name in glob.glob(f\"{base_path}/**/*(1).mp4\", recursive=True)]"
   ]
  },
  {
   "cell_type": "code",
   "execution_count": 35,
   "metadata": {
    "ExecuteTime": {
     "end_time": "2019-09-13T02:17:41.774724Z",
     "start_time": "2019-09-13T02:17:41.750690Z"
    }
   },
   "outputs": [],
   "source": [
    "for fn in file_names:\n",
    "    os.remove(fn)"
   ]
  }
 ],
 "metadata": {
  "hide_input": false,
  "kernelspec": {
   "display_name": "Python 3",
   "language": "python",
   "name": "python3"
  },
  "language_info": {
   "codemirror_mode": {
    "name": "ipython",
    "version": 3
   },
   "file_extension": ".py",
   "mimetype": "text/x-python",
   "name": "python",
   "nbconvert_exporter": "python",
   "pygments_lexer": "ipython3",
   "version": "3.7.7"
  },
  "toc": {
   "base_numbering": 1,
   "nav_menu": {},
   "number_sections": true,
   "sideBar": true,
   "skip_h1_title": false,
   "title_cell": "Table of Contents",
   "title_sidebar": "Contents",
   "toc_cell": false,
   "toc_position": {},
   "toc_section_display": true,
   "toc_window_display": false
  },
  "varInspector": {
   "cols": {
    "lenName": 16,
    "lenType": 16,
    "lenVar": 40
   },
   "kernels_config": {
    "python": {
     "delete_cmd_postfix": "",
     "delete_cmd_prefix": "del ",
     "library": "var_list.py",
     "varRefreshCmd": "print(var_dic_list())"
    },
    "r": {
     "delete_cmd_postfix": ") ",
     "delete_cmd_prefix": "rm(",
     "library": "var_list.r",
     "varRefreshCmd": "cat(var_dic_list()) "
    }
   },
   "types_to_exclude": [
    "module",
    "function",
    "builtin_function_or_method",
    "instance",
    "_Feature"
   ],
   "window_display": false
  }
 },
 "nbformat": 4,
 "nbformat_minor": 2
}
