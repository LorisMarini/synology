{
 "cells": [
  {
   "cell_type": "code",
   "execution_count": null,
   "metadata": {},
   "outputs": [],
   "source": [
    "import sys\n",
    "sys.path.append('../code')\n",
    "\n",
    "%run envconfig.py\n",
    "\n",
    "from imports import *\n",
    "from run import *"
   ]
  },
  {
   "cell_type": "code",
   "execution_count": null,
   "metadata": {},
   "outputs": [],
   "source": [
    "# dump\n",
    "dump = \"/Volumes/photo\"\n",
    "staging_home = \"\"\n",
    "server_home = \"/Volumes\"\n",
    "ignore = []\n",
    "replace = False\n",
    "mode = 'move'\n",
    "staging = {}\n",
    "server = {\"HOME\": server_home,\n",
    "          \"image\": f\"{server_home}/photo\",\n",
    "          \"video\": f\"{server_home}/video\",\n",
    "          \"audio\": f\"{server_home}/photo\",\n",
    "          \"archive\": f\"{server_home}/documents\"}\n",
    "\n",
    "arguments = Arguments(dump, staging, server, ignore, replace, mode)   "
   ]
  },
  {
   "cell_type": "code",
   "execution_count": null,
   "metadata": {},
   "outputs": [],
   "source": [
    "# Search for files\n",
    "files = glob.glob(f\"/Volumes/photo/201[7-9]*/**/*.*\", recursive=True)"
   ]
  },
  {
   "cell_type": "code",
   "execution_count": null,
   "metadata": {},
   "outputs": [],
   "source": [
    "# describe files (string ops, fast)\n",
    "shallow = filedesc_shallow(files=files)\n",
    "\n",
    "# grub stats for each file (slower)\n",
    "deep = filedesc_deep(files=files)\n",
    "\n",
    "# Combine\n",
    "description = pd.merge(shallow, deep, how=\"outer\", on=\"abspath_src\")"
   ]
  },
  {
   "cell_type": "code",
   "execution_count": null,
   "metadata": {},
   "outputs": [],
   "source": [
    "d = description.sort_values(by=[\"basename_src\"])\n",
    "d[\"dirname_src\"] = d[\"abspath_src\"].apply(os.path.dirname).apply(os.path.basename)\n",
    "\n",
    "# Look for same name & size\n",
    "subset=[\"filename_src\", \"st_size\"]\n",
    "\n",
    "where = d.duplicated(subset=subset, keep=\"last\")\n",
    "\n",
    "# Mark deletion\n",
    "d.loc[where,\"delete\"] = True\n",
    "\n",
    "d = d.sort_values(by=subset)\n",
    "to_delete = list(d[d[\"delete\"] == True][\"abspath_src\"])"
   ]
  },
  {
   "cell_type": "code",
   "execution_count": null,
   "metadata": {},
   "outputs": [],
   "source": [
    "# Check all duplicates\n",
    "d[d.duplicated(subset=subset, keep=False)].sort_values(by=\"filename_src\")"
   ]
  },
  {
   "cell_type": "code",
   "execution_count": null,
   "metadata": {},
   "outputs": [],
   "source": []
  },
  {
   "cell_type": "code",
   "execution_count": null,
   "metadata": {},
   "outputs": [],
   "source": [
    "# Remove them\n",
    "[os.remove(path) for path in to_delete]"
   ]
  },
  {
   "cell_type": "markdown",
   "metadata": {},
   "source": [
    "## Move CR2 files over to /Volumes/photo_raw"
   ]
  },
  {
   "cell_type": "code",
   "execution_count": null,
   "metadata": {},
   "outputs": [],
   "source": [
    "files = glob.glob(f\"/Volumes/photo/**/*.CR2\", recursive=True)"
   ]
  },
  {
   "cell_type": "code",
   "execution_count": null,
   "metadata": {},
   "outputs": [],
   "source": [
    "dest = [f.replace(\"/photo/\", \"/photo_raw/\") for f in files]"
   ]
  },
  {
   "cell_type": "code",
   "execution_count": null,
   "metadata": {},
   "outputs": [],
   "source": [
    "dest"
   ]
  },
  {
   "cell_type": "code",
   "execution_count": null,
   "metadata": {},
   "outputs": [],
   "source": [
    "# Create destination directories if they don't exist\n",
    "dst_dirs = pd.Series(dest).apply(lambda x: os.path.dirname(x))\n",
    "dst_dirs_unique = dst_dirs.unique()\n",
    "_ = [os.makedirs(d, exist_ok=True) for d in dst_dirs_unique]\n",
    "    "
   ]
  },
  {
   "cell_type": "code",
   "execution_count": null,
   "metadata": {},
   "outputs": [],
   "source": [
    "# Move files\n",
    "for s,d in zip(files, dest):\n",
    "    shutil.move(s, d, copy_function=shutil.copy2)"
   ]
  }
 ],
 "metadata": {
  "hide_input": false,
  "kernelspec": {
   "display_name": "Python 3",
   "language": "python",
   "name": "python3"
  },
  "language_info": {
   "codemirror_mode": {
    "name": "ipython",
    "version": 3
   },
   "file_extension": ".py",
   "mimetype": "text/x-python",
   "name": "python",
   "nbconvert_exporter": "python",
   "pygments_lexer": "ipython3",
   "version": "3.7.7"
  },
  "toc": {
   "base_numbering": 1,
   "nav_menu": {},
   "number_sections": true,
   "sideBar": true,
   "skip_h1_title": false,
   "title_cell": "Table of Contents",
   "title_sidebar": "Contents",
   "toc_cell": false,
   "toc_position": {},
   "toc_section_display": true,
   "toc_window_display": false
  }
 },
 "nbformat": 4,
 "nbformat_minor": 4
}
